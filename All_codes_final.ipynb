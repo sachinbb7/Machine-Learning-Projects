{
  "nbformat": 4,
  "nbformat_minor": 0,
  "metadata": {
    "colab": {
      "provenance": [],
      "authorship_tag": "ABX9TyPPgFw/z7G7KSlQiuqjFeNS",
      "include_colab_link": true
    },
    "kernelspec": {
      "name": "python3",
      "display_name": "Python 3"
    },
    "language_info": {
      "name": "python"
    }
  },
  "cells": [
    {
      "cell_type": "markdown",
      "metadata": {
        "id": "view-in-github",
        "colab_type": "text"
      },
      "source": [
        "<a href=\"https://colab.research.google.com/github/sachinbb7/Machine-Learning-Projects/blob/main/All_codes_final.ipynb\" target=\"_parent\"><img src=\"https://colab.research.google.com/assets/colab-badge.svg\" alt=\"Open In Colab\"/></a>"
      ]
    },
    {
      "cell_type": "markdown",
      "source": [
        "# **Linear Regression**"
      ],
      "metadata": {
        "id": "NOE8dv4mwyWc"
      }
    },
    {
      "cell_type": "code",
      "execution_count": 4,
      "metadata": {
        "colab": {
          "base_uri": "https://localhost:8080/"
        },
        "id": "Hnb7IhNbWKxH",
        "outputId": "c19ad6d7-7f6d-4365-83c4-b94443345b5b"
      },
      "outputs": [
        {
          "output_type": "stream",
          "name": "stdout",
          "text": [
            "Downloading...\n",
            "From: https://drive.google.com/uc?id=1Uf8npawLbGPDBu9HBfNcvzhf_PdL9RhX\n",
            "To: /content/cars24-car-price-clean-new.csv\n",
            "\r  0% 0.00/6.57M [00:00<?, ?B/s]\r 16% 1.05M/6.57M [00:00<00:00, 9.38MB/s]\r100% 6.57M/6.57M [00:00<00:00, 36.1MB/s]\n"
          ]
        },
        {
          "output_type": "execute_result",
          "data": {
            "text/plain": [
              "Index(['km_driven', 'mileage', 'engine', 'max_power', 'age', 'make', 'model',\n",
              "       'Individual', 'Trustmark Dealer', 'Diesel', 'Electric', 'LPG', 'Petrol',\n",
              "       'Manual', '5', '>5'],\n",
              "      dtype='object')"
            ]
          },
          "metadata": {},
          "execution_count": 4
        }
      ],
      "source": [
        "import numpy as np\n",
        "import pandas as pd\n",
        "import matplotlib.pyplot as plt\n",
        "\n",
        "# !gdown 1UpLnYA48Vy_lGUMMLG-uQE1gf_Je12Lh\n",
        "\n",
        "!gdown 1Uf8npawLbGPDBu9HBfNcvzhf_PdL9RhX\n",
        "\n",
        "\n",
        "\n",
        "df= pd.read_csv(\"cars24-car-price-clean-new.csv\")\n",
        "\n",
        "\n",
        "x= df.drop(columns= \"selling_price\")\n",
        "y= df[\"selling_price\"]\n",
        "\n",
        "\n",
        "from sklearn.model_selection import train_test_split\n",
        "x_train,x_test, y_train , y_test = train_test_split(x, y, train_size = 0.8, random_state = 42)\n",
        "\n",
        "\n",
        "from sklearn.linear_model import LinearRegression\n",
        "\n",
        "x_train.columns"
      ]
    },
    {
      "cell_type": "code",
      "source": [
        "#Defining Metrics for model performance\n",
        "\n",
        "class linear_regression():\n",
        "\n",
        "    def __init__(self, x_train, y_train):\n",
        "        self.x_train = x_train\n",
        "        self.y_train = y_train\n",
        "\n",
        "\n",
        "    def predict(self, x_test):\n",
        "        model = LinearRegression().fit(self.x_train, self.y_train)\n",
        "        y_predict = model.predict(x_test)\n",
        "        return y_predict\n",
        "\n",
        "    def mse(self, y_test, x_test):\n",
        "        mse = (np.sum((y_test - self.predict(x_test))**2)) / len(self.predict(x_test))\n",
        "        return mse\n",
        "\n",
        "    def r_square(self, y_test, x_test):\n",
        "        numerator = (np.sum((y_test - self.predict(x_test))**2))\n",
        "        denominator = (np.sum((y_test - np.mean(y_test))**2))\n",
        "        r_score = 1 - numerator / denominator\n",
        "        return r_score\n",
        "\n",
        "    def adjusted_rscore(self, y_test, x_test):\n",
        "\n",
        "      d= x_test.shape[1]\n",
        "      n= len(x_test)\n",
        "      score = 1- (self.r_square(y_test, x_test)) * (n-1)/ (n-d-1)\n",
        "      adjusted_rscore = 1- score\n",
        "      return adjusted_rscore\n"
      ],
      "metadata": {
        "id": "5llZhOzcWOC3"
      },
      "execution_count": 5,
      "outputs": []
    },
    {
      "cell_type": "code",
      "source": [
        "#Linear Regression code\n",
        "\n",
        "def linear_code(x_train, y_train, n = 0.01):\n",
        "\n",
        "  store_mse = [] #stroing my loss values\n",
        "\n",
        "  #intializing w-vector and bias with value 0\n",
        "  w= np.zeros(x_train.shape[1])\n",
        "  w0 = np.zeros(1)\n",
        "\n",
        "  for i in range(500):\n",
        "\n",
        "    #doing pure matrix multiplication here\n",
        "    y_predicted = (np.dot(x_train, w)) + w0 #x_train dimension = (n,d) , w dimensoon = (d,1). ----->>>> matrix multiplication of (n,d), (d,1) = (n,1)\n",
        "    mse = (np.sum((y_train- y_predicted)**2)/(len(x_train)))/len(x_train)\n",
        "    store_mse.append(mse)\n",
        "\n",
        "    #finding w-vector and bias gradients\n",
        "    w_gradient = -(np.dot(x_train.T, (y_train - y_predicted)))* (2/len(x_train))\n",
        "    w0_gradient = -(y_train - y_predicted) * (2/len(x_train))\n",
        "\n",
        "    #updating weights\n",
        "    w = w - (n * w_gradient)\n",
        "    w0= w0 - (n* w0_gradient)\n",
        "\n",
        "\n",
        "  return store_mse , w , w0\n",
        "\n",
        "\n",
        "mse, w , w0 = linear_code(x_train, y_train)"
      ],
      "metadata": {
        "id": "z2V3H1XRWNxL"
      },
      "execution_count": 11,
      "outputs": []
    },
    {
      "cell_type": "code",
      "source": [
        "#Feature Importance\n",
        "plt.plot(w)"
      ],
      "metadata": {
        "colab": {
          "base_uri": "https://localhost:8080/",
          "height": 447
        },
        "id": "DVhmEEmTxbnb",
        "outputId": "9184aac2-3966-4d2d-cea6-353405bb33d3"
      },
      "execution_count": 12,
      "outputs": [
        {
          "output_type": "execute_result",
          "data": {
            "text/plain": [
              "[<matplotlib.lines.Line2D at 0x7909052e3d60>]"
            ]
          },
          "metadata": {},
          "execution_count": 12
        },
        {
          "output_type": "display_data",
          "data": {
            "text/plain": [
              "<Figure size 640x480 with 1 Axes>"
            ],
            "image/png": "[encoded data removed]"
          },
          "metadata": {}
        }
      ]
    },
    {
      "cell_type": "code",
      "source": [
        "#Linear Regression code with L1 & L2 Regularization\n",
        "\n",
        "def linear_code(x_train, y_train, n = 0.01, alpha = 0.1 , beta= 0.1):\n",
        "\n",
        "  store_loss = [] #stroing my loss values\n",
        "\n",
        "  #intializing w-vector and bias with value 0\n",
        "  w= np.zeros(x_train.shape[1])\n",
        "  w0 = np.zeros(1)\n",
        "\n",
        "  for i in range(1000):\n",
        "\n",
        "    #doing pure matrix multiplication here\n",
        "\n",
        "    y_predicted = (np.dot(x_train, w)) + w0 #x_train dimension = (n,d) , w dimensoon = (d,1). ----->>>> matrix multiplication of (n,d), (d,1) = (n,1)\n",
        "    loss = (1/len(y_train)) * np.sum(y_train - y_predicted)**2 #matrix subtraction of (n,1) - (n,1) = (n,1)\n",
        "    modified_loss = loss + (beta *np.sum((w)**2)) + (alpha * np.sum(np.absolute(w))) #adding L2 & L1 Regularization ----->>> (n,1) + (1) + (1) = (n,1)\n",
        "    store_loss.append(loss)\n",
        "\n",
        "    #finding w-vector and bias gradients\n",
        "    #matrix multiplication x_train.T , error ----->>>> (d,n) , (n,1) = (d,1)\n",
        "    w_gradient = (-(np.dot(x_train.T, (y_train - y_predicted)))* (2/len(x_train))) + (2*beta*w) + (alpha * np.sign(w))\n",
        "    w0_gradient = -(y_train - y_predicted) * (2/len(x_train))\n",
        "\n",
        "    #updating weights\n",
        "    w = w - (n * w_gradient)\n",
        "    w0= w0 - (n* w0_gradient)\n",
        "\n",
        "\n",
        "  return store_loss , w , w0 , y_predicted\n",
        "\n",
        "\n",
        "mse, w , w0 , y_pred = linear_code(x_train, y_train)"
      ],
      "metadata": {
        "id": "sbBgMn4ZtiDr"
      },
      "execution_count": 13,
      "outputs": []
    },
    {
      "cell_type": "code",
      "source": [
        "#Feature Importance with lasso & Ridge regularization\n",
        "plt.plot(w)"
      ],
      "metadata": {
        "id": "DVocoPVfWNUQ",
        "colab": {
          "base_uri": "https://localhost:8080/",
          "height": 447
        },
        "outputId": "b77dd650-0eb6-42af-d44c-027d9fbf54e7"
      },
      "execution_count": 9,
      "outputs": [
        {
          "output_type": "execute_result",
          "data": {
            "text/plain": [
              "[<matplotlib.lines.Line2D at 0x790910ff9570>]"
            ]
          },
          "metadata": {},
          "execution_count": 9
        },
        {
          "output_type": "display_data",
          "data": {
            "text/plain": [
              "<Figure size 640x480 with 1 Axes>"
            ],
            "image/png": "[encoded data removed]"
          },
          "metadata": {}
        }
      ]
    },
    {
      "cell_type": "code",
      "source": [
        "plt.plot(y_test- y_pred)\n",
        "plt.show()"
      ],
      "metadata": {
        "id": "E9JWtMEnWNR2",
        "colab": {
          "base_uri": "https://localhost:8080/",
          "height": 430
        },
        "outputId": "8bb4ef32-49da-468a-c3b9-00d02d311b92"
      },
      "execution_count": 18,
      "outputs": [
        {
          "output_type": "display_data",
          "data": {
            "text/plain": [
              "<Figure size 640x480 with 1 Axes>"
            ],
            "image/png": "[encoded data removed]"
          },
          "metadata": {}
        }
      ]
    },
    {
      "cell_type": "code",
      "source": [],
      "metadata": {
        "id": "_0P92WK_WNPM"
      },
      "execution_count": null,
      "outputs": []
    },
    {
      "cell_type": "code",
      "source": [],
      "metadata": {
        "id": "OHx6DPaAWNMx"
      },
      "execution_count": null,
      "outputs": []
    },
    {
      "cell_type": "code",
      "source": [],
      "metadata": {
        "id": "h042kjDKWNKQ"
      },
      "execution_count": null,
      "outputs": []
    },
    {
      "cell_type": "code",
      "source": [],
      "metadata": {
        "id": "ZnREOyTBWNHc"
      },
      "execution_count": null,
      "outputs": []
    },
    {
      "cell_type": "code",
      "source": [],
      "metadata": {
        "id": "J8NTrBloWNFJ"
      },
      "execution_count": null,
      "outputs": []
    },
    {
      "cell_type": "code",
      "source": [],
      "metadata": {
        "id": "2x6uEvZsWNCk"
      },
      "execution_count": null,
      "outputs": []
    },
    {
      "cell_type": "code",
      "source": [],
      "metadata": {
        "id": "VdPydJR7WNAL"
      },
      "execution_count": null,
      "outputs": []
    },
    {
      "cell_type": "code",
      "source": [],
      "metadata": {
        "id": "T8mw_JaEWM93"
      },
      "execution_count": null,
      "outputs": []
    },
    {
      "cell_type": "code",
      "source": [],
      "metadata": {
        "id": "0Y6_1m3kWM7V"
      },
      "execution_count": null,
      "outputs": []
    },
    {
      "cell_type": "code",
      "source": [],
      "metadata": {
        "id": "ibLkUG8nWM5D"
      },
      "execution_count": null,
      "outputs": []
    },
    {
      "cell_type": "code",
      "source": [],
      "metadata": {
        "id": "fRkbsaE2WM2n"
      },
      "execution_count": null,
      "outputs": []
    },
    {
      "cell_type": "code",
      "source": [],
      "metadata": {
        "id": "6Vv-AWP0WM0N"
      },
      "execution_count": null,
      "outputs": []
    },
    {
      "cell_type": "code",
      "source": [],
      "metadata": {
        "id": "jowatCCGWMyD"
      },
      "execution_count": null,
      "outputs": []
    },
    {
      "cell_type": "code",
      "source": [],
      "metadata": {
        "id": "gjfvOI8SWMvh"
      },
      "execution_count": null,
      "outputs": []
    },
    {
      "cell_type": "code",
      "source": [],
      "metadata": {
        "id": "IVXLKzhEWMtW"
      },
      "execution_count": null,
      "outputs": []
    },
    {
      "cell_type": "code",
      "source": [],
      "metadata": {
        "id": "-Tp9AEa3WMrK"
      },
      "execution_count": null,
      "outputs": []
    },
    {
      "cell_type": "code",
      "source": [],
      "metadata": {
        "id": "koX-bIkAWMov"
      },
      "execution_count": null,
      "outputs": []
    },
    {
      "cell_type": "code",
      "source": [],
      "metadata": {
        "id": "Pa5-BZtuWMmm"
      },
      "execution_count": null,
      "outputs": []
    },
    {
      "cell_type": "code",
      "source": [],
      "metadata": {
        "id": "OCgW2OkYWMig"
      },
      "execution_count": null,
      "outputs": []
    },
    {
      "cell_type": "code",
      "source": [],
      "metadata": {
        "id": "_YSpqUJfWMgH"
      },
      "execution_count": null,
      "outputs": []
    },
    {
      "cell_type": "code",
      "source": [],
      "metadata": {
        "id": "nHijZtRgWMd-"
      },
      "execution_count": null,
      "outputs": []
    },
    {
      "cell_type": "code",
      "source": [],
      "metadata": {
        "id": "Unx1CtalWMbx"
      },
      "execution_count": null,
      "outputs": []
    },
    {
      "cell_type": "code",
      "source": [],
      "metadata": {
        "id": "fEArNhKJWMZo"
      },
      "execution_count": null,
      "outputs": []
    },
    {
      "cell_type": "code",
      "source": [],
      "metadata": {
        "id": "FAUWDvROWMXU"
      },
      "execution_count": null,
      "outputs": []
    },
    {
      "cell_type": "code",
      "source": [],
      "metadata": {
        "id": "VWxbeQoRWMVL"
      },
      "execution_count": null,
      "outputs": []
    },
    {
      "cell_type": "code",
      "source": [],
      "metadata": {
        "id": "GxF0pAHsWMQ3"
      },
      "execution_count": null,
      "outputs": []
    },
    {
      "cell_type": "code",
      "source": [],
      "metadata": {
        "id": "_YhObGNiWMOn"
      },
      "execution_count": null,
      "outputs": []
    },
    {
      "cell_type": "code",
      "source": [],
      "metadata": {
        "id": "tf1ducVuWMMK"
      },
      "execution_count": null,
      "outputs": []
    },
    {
      "cell_type": "code",
      "source": [],
      "metadata": {
        "id": "YoKXaRQCWMJ6"
      },
      "execution_count": null,
      "outputs": []
    },
    {
      "cell_type": "code",
      "source": [],
      "metadata": {
        "id": "ICMI-msOWMHt"
      },
      "execution_count": null,
      "outputs": []
    },
    {
      "cell_type": "code",
      "source": [],
      "metadata": {
        "id": "K5C1cHZtWMFa"
      },
      "execution_count": null,
      "outputs": []
    },
    {
      "cell_type": "code",
      "source": [],
      "metadata": {
        "id": "4GHFnLWyWMDI"
      },
      "execution_count": null,
      "outputs": []
    },
    {
      "cell_type": "code",
      "source": [],
      "metadata": {
        "id": "fEIlMCQzWMAc"
      },
      "execution_count": null,
      "outputs": []
    }
  ]
}